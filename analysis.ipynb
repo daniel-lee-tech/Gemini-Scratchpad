{
 "cells": [
  {
   "cell_type": "code",
   "execution_count": 46,
   "metadata": {},
   "outputs": [
    {
     "name": "stdout",
     "output_type": "stream",
     "text": [
      "          price      amount           timestamp             timestampms  type  \\\n",
      "0      588.0400    0.081644 2021-12-01 14:32:52 2021-12-01 14:32:52.438   Buy   \n",
      "1      584.5100    8.306769 2021-12-01 13:50:35 2021-12-01 13:50:35.922   Buy   \n",
      "2        5.3440  936.260413 2021-12-01 13:49:46 2021-12-01 13:49:46.752  Sell   \n",
      "3        5.4536    8.803359 2021-12-01 13:29:52 2021-12-01 13:29:52.779   Buy   \n",
      "4        5.6038    8.567400 2021-11-30 13:24:39 2021-11-30 13:24:39.759   Buy   \n",
      "..          ...         ...                 ...                     ...   ...   \n",
      "491  46268.2700    0.000292 2021-02-10 14:09:35 2021-02-10 14:09:35.868   Buy   \n",
      "492    493.8100    0.012170 2021-02-10 14:01:41 2021-02-10 14:01:41.651   Buy   \n",
      "493    483.8300    0.012421 2021-02-09 14:10:00 2021-02-09 14:10:00.082   Buy   \n",
      "494  46473.7800    0.000291 2021-02-09 14:00:59 2021-02-09 14:00:59.513   Buy   \n",
      "495  47900.9800    0.000188 2021-02-09 07:09:25 2021-02-09 07:09:25.642   Buy   \n",
      "\n",
      "     aggressor fee_currency  fee_amount          tid     order_id exchange  \\\n",
      "0         True          USD    1.990062  72185985527  72185985450   gemini   \n",
      "1         True          USD   73.440452  72177892617  72177892566   gemini   \n",
      "2         True          USD   74.550300  72177763460  72177763410   gemini   \n",
      "3         True          USD    1.990001  72174013701  72174013659   gemini   \n",
      "4         True          USD    1.990004  71931361399  71931361351   gemini   \n",
      "..         ...          ...         ...          ...          ...      ...   \n",
      "491       True          USD    1.490128  22548071981  22548071970   gemini   \n",
      "492       True          USD    0.990332  22547197078  22547197061   gemini   \n",
      "493       True          USD    0.990348  22431847029  22431847015   gemini   \n",
      "494       True          USD    1.490072  22431108536  22431108519   gemini   \n",
      "495       True          USD    0.990305  22392018308  22392018297   gemini   \n",
      "\n",
      "     is_auction_fill  is_clearing_fill  symbol client_order_id  \n",
      "0              False             False  BCHUSD       Recurring  \n",
      "1              False             False  BCHUSD          Mobile  \n",
      "2              False             False  XTZUSD          Mobile  \n",
      "3              False             False  XTZUSD       Recurring  \n",
      "4              False             False  XTZUSD       Recurring  \n",
      "..               ...               ...     ...             ...  \n",
      "491            False             False  BTCUSD       Recurring  \n",
      "492            False             False  BCHUSD       Recurring  \n",
      "493            False             False  BCHUSD       Recurring  \n",
      "494            False             False  BTCUSD       Recurring  \n",
      "495            False             False  BTCUSD       Recurring  \n",
      "\n",
      "[496 rows x 15 columns]\n"
     ]
    }
   ],
   "source": [
    "import pandas\n",
    "import time\n",
    "\n",
    "my_trades_df = pandas.read_json('trades.json');\n",
    "# my_trades_df.set_index('timestampms', inplace=True)\n",
    "print(my_trades_df)"
   ]
  },
  {
   "cell_type": "code",
   "execution_count": 47,
   "outputs": [
    {
     "data": {
      "text/plain": "          price      amount           timestamp             timestampms  type  \\\n0      588.0400    0.081644 2021-12-01 14:32:52 2021-12-01 14:32:52.438   Buy   \n1      584.5100    8.306769 2021-12-01 13:50:35 2021-12-01 13:50:35.922   Buy   \n2        5.3440  936.260413 2021-12-01 13:49:46 2021-12-01 13:49:46.752  Sell   \n3        5.4536    8.803359 2021-12-01 13:29:52 2021-12-01 13:29:52.779   Buy   \n4        5.6038    8.567400 2021-11-30 13:24:39 2021-11-30 13:24:39.759   Buy   \n..          ...         ...                 ...                     ...   ...   \n491  46268.2700    0.000292 2021-02-10 14:09:35 2021-02-10 14:09:35.868   Buy   \n492    493.8100    0.012170 2021-02-10 14:01:41 2021-02-10 14:01:41.651   Buy   \n493    483.8300    0.012421 2021-02-09 14:10:00 2021-02-09 14:10:00.082   Buy   \n494  46473.7800    0.000291 2021-02-09 14:00:59 2021-02-09 14:00:59.513   Buy   \n495  47900.9800    0.000188 2021-02-09 07:09:25 2021-02-09 07:09:25.642   Buy   \n\n     aggressor fee_currency  fee_amount          tid     order_id exchange  \\\n0         True          USD    1.990062  72185985527  72185985450   gemini   \n1         True          USD   73.440452  72177892617  72177892566   gemini   \n2         True          USD   74.550300  72177763460  72177763410   gemini   \n3         True          USD    1.990001  72174013701  72174013659   gemini   \n4         True          USD    1.990004  71931361399  71931361351   gemini   \n..         ...          ...         ...          ...          ...      ...   \n491       True          USD    1.490128  22548071981  22548071970   gemini   \n492       True          USD    0.990332  22547197078  22547197061   gemini   \n493       True          USD    0.990348  22431847029  22431847015   gemini   \n494       True          USD    1.490072  22431108536  22431108519   gemini   \n495       True          USD    0.990305  22392018308  22392018297   gemini   \n\n     is_auction_fill  is_clearing_fill  symbol client_order_id  \n0              False             False  BCHUSD       Recurring  \n1              False             False  BCHUSD          Mobile  \n2              False             False  XTZUSD          Mobile  \n3              False             False  XTZUSD       Recurring  \n4              False             False  XTZUSD       Recurring  \n..               ...               ...     ...             ...  \n491            False             False  BTCUSD       Recurring  \n492            False             False  BCHUSD       Recurring  \n493            False             False  BCHUSD       Recurring  \n494            False             False  BTCUSD       Recurring  \n495            False             False  BTCUSD       Recurring  \n\n[496 rows x 15 columns]",
      "text/html": "<div>\n<style scoped>\n    .dataframe tbody tr th:only-of-type {\n        vertical-align: middle;\n    }\n\n    .dataframe tbody tr th {\n        vertical-align: top;\n    }\n\n    .dataframe thead th {\n        text-align: right;\n    }\n</style>\n<table border=\"1\" class=\"dataframe\">\n  <thead>\n    <tr style=\"text-align: right;\">\n      <th></th>\n      <th>price</th>\n      <th>amount</th>\n      <th>timestamp</th>\n      <th>timestampms</th>\n      <th>type</th>\n      <th>aggressor</th>\n      <th>fee_currency</th>\n      <th>fee_amount</th>\n      <th>tid</th>\n      <th>order_id</th>\n      <th>exchange</th>\n      <th>is_auction_fill</th>\n      <th>is_clearing_fill</th>\n      <th>symbol</th>\n      <th>client_order_id</th>\n    </tr>\n  </thead>\n  <tbody>\n    <tr>\n      <th>0</th>\n      <td>588.0400</td>\n      <td>0.081644</td>\n      <td>2021-12-01 14:32:52</td>\n      <td>2021-12-01 14:32:52.438</td>\n      <td>Buy</td>\n      <td>True</td>\n      <td>USD</td>\n      <td>1.990062</td>\n      <td>72185985527</td>\n      <td>72185985450</td>\n      <td>gemini</td>\n      <td>False</td>\n      <td>False</td>\n      <td>BCHUSD</td>\n      <td>Recurring</td>\n    </tr>\n    <tr>\n      <th>1</th>\n      <td>584.5100</td>\n      <td>8.306769</td>\n      <td>2021-12-01 13:50:35</td>\n      <td>2021-12-01 13:50:35.922</td>\n      <td>Buy</td>\n      <td>True</td>\n      <td>USD</td>\n      <td>73.440452</td>\n      <td>72177892617</td>\n      <td>72177892566</td>\n      <td>gemini</td>\n      <td>False</td>\n      <td>False</td>\n      <td>BCHUSD</td>\n      <td>Mobile</td>\n    </tr>\n    <tr>\n      <th>2</th>\n      <td>5.3440</td>\n      <td>936.260413</td>\n      <td>2021-12-01 13:49:46</td>\n      <td>2021-12-01 13:49:46.752</td>\n      <td>Sell</td>\n      <td>True</td>\n      <td>USD</td>\n      <td>74.550300</td>\n      <td>72177763460</td>\n      <td>72177763410</td>\n      <td>gemini</td>\n      <td>False</td>\n      <td>False</td>\n      <td>XTZUSD</td>\n      <td>Mobile</td>\n    </tr>\n    <tr>\n      <th>3</th>\n      <td>5.4536</td>\n      <td>8.803359</td>\n      <td>2021-12-01 13:29:52</td>\n      <td>2021-12-01 13:29:52.779</td>\n      <td>Buy</td>\n      <td>True</td>\n      <td>USD</td>\n      <td>1.990001</td>\n      <td>72174013701</td>\n      <td>72174013659</td>\n      <td>gemini</td>\n      <td>False</td>\n      <td>False</td>\n      <td>XTZUSD</td>\n      <td>Recurring</td>\n    </tr>\n    <tr>\n      <th>4</th>\n      <td>5.6038</td>\n      <td>8.567400</td>\n      <td>2021-11-30 13:24:39</td>\n      <td>2021-11-30 13:24:39.759</td>\n      <td>Buy</td>\n      <td>True</td>\n      <td>USD</td>\n      <td>1.990004</td>\n      <td>71931361399</td>\n      <td>71931361351</td>\n      <td>gemini</td>\n      <td>False</td>\n      <td>False</td>\n      <td>XTZUSD</td>\n      <td>Recurring</td>\n    </tr>\n    <tr>\n      <th>...</th>\n      <td>...</td>\n      <td>...</td>\n      <td>...</td>\n      <td>...</td>\n      <td>...</td>\n      <td>...</td>\n      <td>...</td>\n      <td>...</td>\n      <td>...</td>\n      <td>...</td>\n      <td>...</td>\n      <td>...</td>\n      <td>...</td>\n      <td>...</td>\n      <td>...</td>\n    </tr>\n    <tr>\n      <th>491</th>\n      <td>46268.2700</td>\n      <td>0.000292</td>\n      <td>2021-02-10 14:09:35</td>\n      <td>2021-02-10 14:09:35.868</td>\n      <td>Buy</td>\n      <td>True</td>\n      <td>USD</td>\n      <td>1.490128</td>\n      <td>22548071981</td>\n      <td>22548071970</td>\n      <td>gemini</td>\n      <td>False</td>\n      <td>False</td>\n      <td>BTCUSD</td>\n      <td>Recurring</td>\n    </tr>\n    <tr>\n      <th>492</th>\n      <td>493.8100</td>\n      <td>0.012170</td>\n      <td>2021-02-10 14:01:41</td>\n      <td>2021-02-10 14:01:41.651</td>\n      <td>Buy</td>\n      <td>True</td>\n      <td>USD</td>\n      <td>0.990332</td>\n      <td>22547197078</td>\n      <td>22547197061</td>\n      <td>gemini</td>\n      <td>False</td>\n      <td>False</td>\n      <td>BCHUSD</td>\n      <td>Recurring</td>\n    </tr>\n    <tr>\n      <th>493</th>\n      <td>483.8300</td>\n      <td>0.012421</td>\n      <td>2021-02-09 14:10:00</td>\n      <td>2021-02-09 14:10:00.082</td>\n      <td>Buy</td>\n      <td>True</td>\n      <td>USD</td>\n      <td>0.990348</td>\n      <td>22431847029</td>\n      <td>22431847015</td>\n      <td>gemini</td>\n      <td>False</td>\n      <td>False</td>\n      <td>BCHUSD</td>\n      <td>Recurring</td>\n    </tr>\n    <tr>\n      <th>494</th>\n      <td>46473.7800</td>\n      <td>0.000291</td>\n      <td>2021-02-09 14:00:59</td>\n      <td>2021-02-09 14:00:59.513</td>\n      <td>Buy</td>\n      <td>True</td>\n      <td>USD</td>\n      <td>1.490072</td>\n      <td>22431108536</td>\n      <td>22431108519</td>\n      <td>gemini</td>\n      <td>False</td>\n      <td>False</td>\n      <td>BTCUSD</td>\n      <td>Recurring</td>\n    </tr>\n    <tr>\n      <th>495</th>\n      <td>47900.9800</td>\n      <td>0.000188</td>\n      <td>2021-02-09 07:09:25</td>\n      <td>2021-02-09 07:09:25.642</td>\n      <td>Buy</td>\n      <td>True</td>\n      <td>USD</td>\n      <td>0.990305</td>\n      <td>22392018308</td>\n      <td>22392018297</td>\n      <td>gemini</td>\n      <td>False</td>\n      <td>False</td>\n      <td>BTCUSD</td>\n      <td>Recurring</td>\n    </tr>\n  </tbody>\n</table>\n<p>496 rows × 15 columns</p>\n</div>"
     },
     "execution_count": 47,
     "metadata": {},
     "output_type": "execute_result"
    }
   ],
   "source": [
    "from numpy import int64, int32\n",
    "\n",
    "# my_trades_df['timestampms'] = my_trades_df['timestampms'].\n",
    "\n",
    "my_trades_df"
   ],
   "metadata": {
    "collapsed": false,
    "pycharm": {
     "name": "#%%\n"
    }
   }
  }
 ],
 "metadata": {
  "kernelspec": {
   "display_name": "Python 3 (ipykernel)",
   "language": "python",
   "name": "python3"
  },
  "language_info": {
   "codemirror_mode": {
    "name": "ipython",
    "version": 3
   },
   "file_extension": ".py",
   "mimetype": "text/x-python",
   "name": "python",
   "nbconvert_exporter": "python",
   "pygments_lexer": "ipython3",
   "version": "3.9.9"
  }
 },
 "nbformat": 4,
 "nbformat_minor": 1
}